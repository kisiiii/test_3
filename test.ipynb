{
 "cells": [
  {
   "cell_type": "code",
   "execution_count": 6,
   "metadata": {},
   "outputs": [
    {
     "name": "stdout",
     "output_type": "stream",
     "text": [
      "Tables in database: ['room_ver2']\n",
      "Inspecting table: room_ver2\n",
      "    cid         name     type  notnull dflt_value  pk\n",
      "0     0           名称     TEXT        0       None   0\n",
      "1     1         カテゴリ     TEXT        0       None   0\n",
      "2     2         アドレス     TEXT        0       None   0\n",
      "3     3         アクセス     TEXT        0       None   0\n",
      "4     4          築年数  INTEGER        0       None   0\n",
      "5     5           構造  INTEGER        0       None   0\n",
      "6     6           階数     REAL        0       None   0\n",
      "7     7           家賃     REAL        0       None   0\n",
      "8     8          管理費     REAL        0       None   0\n",
      "9     9           敷金     REAL        0       None   0\n",
      "10   10           礼金     REAL        0       None   0\n",
      "11   11          間取り     TEXT        0       None   0\n",
      "12   12           面積     REAL        0       None   0\n",
      "13   13      物件画像URL     TEXT        0       None   0\n",
      "14   14      間取画像URL     TEXT        0       None   0\n",
      "15   15      物件詳細URL     TEXT        0       None   0\n",
      "16   16            区     TEXT        0       None   0\n",
      "17   17           市町     TEXT        0       None   0\n",
      "18   18      漢数字アドレス     TEXT        0       None   0\n",
      "19   19           緯度     REAL        0       None   0\n",
      "20   20           経度     REAL        0       None   0\n",
      "21   21    アクセス①1線路名     TEXT        0       None   0\n",
      "22   22     アクセス①1駅名     TEXT        0       None   0\n",
      "23   23  アクセス①1徒歩(分)  INTEGER        0       None   0\n",
      "24   24    アクセス①2線路名     TEXT        0       None   0\n",
      "25   25     アクセス①2駅名     TEXT        0       None   0\n",
      "26   26  アクセス①2徒歩(分)     REAL        0       None   0\n",
      "27   27    アクセス①3線路名     TEXT        0       None   0\n",
      "28   28     アクセス①3駅名     TEXT        0       None   0\n",
      "29   29  アクセス①3徒歩(分)     REAL        0       None   0\n",
      "          名称     カテゴリ          アドレス  \\\n",
      "0  カスタリア東日本橋  賃貸マンション  東京都中央区日本橋横山町   \n",
      "1  勝どき　ザ・タワー  賃貸マンション    東京都中央区勝どき５   \n",
      "2  勝どき　ザ・タワー  賃貸マンション    東京都中央区勝どき５   \n",
      "3  勝どき　ザ・タワー  賃貸マンション    東京都中央区勝どき５   \n",
      "4  勝どき　ザ・タワー  賃貸マンション    東京都中央区勝どき５   \n",
      "\n",
      "                                                アクセス  築年数  構造    階数    家賃  \\\n",
      "0  都営浅草線/東日本橋駅 歩2分, 都営新宿線/馬喰横山駅 歩3分, ＪＲ総武線快速/馬喰町駅...   19  16   6.0  25.0   \n",
      "1  都営大江戸線/勝どき駅 歩6分, 都営大江戸線/築地市場駅 歩24分, 東京メトロ有楽町線/...    8  53  15.0  24.5   \n",
      "2  都営大江戸線/勝どき駅 歩6分, 都営大江戸線/築地市場駅 歩24分, 東京メトロ有楽町線/...    8  53  22.0  24.5   \n",
      "3  都営大江戸線/勝どき駅 歩6分, 都営大江戸線/築地市場駅 歩24分, 東京メトロ有楽町線/...    8  53  44.0  23.0   \n",
      "4  都営大江戸線/勝どき駅 歩6分, 都営大江戸線/築地市場駅 歩24分, 東京メトロ有楽町線/...    8  53  35.0  25.0   \n",
      "\n",
      "       管理費    敷金  ...    経度 アクセス①1線路名  アクセス①1駅名 アクセス①1徒歩(分) アクセス①2線路名  \\\n",
      "0  12000.0  25.0  ...  None     都営浅草線     東日本橋駅           2     都営新宿線   \n",
      "1      NaN  49.0  ...  None    都営大江戸線      勝どき駅           6    都営大江戸線   \n",
      "2      NaN  49.0  ...  None    都営大江戸線      勝どき駅           6    都営大江戸線   \n",
      "3  15000.0  46.0  ...  None    都営大江戸線      勝どき駅           6    都営大江戸線   \n",
      "4      NaN  25.0  ...  None    都営大江戸線      勝どき駅           6    都営大江戸線   \n",
      "\n",
      "  アクセス①2駅名 アクセス①2徒歩(分)  アクセス①3線路名 アクセス①3駅名 アクセス①3徒歩(分)  \n",
      "0    馬喰横山駅         3.0    ＪＲ総武線快速     馬喰町駅         4.0  \n",
      "1    築地市場駅        24.0  東京メトロ有楽町線      月島駅        17.0  \n",
      "2    築地市場駅        24.0  東京メトロ有楽町線      月島駅        17.0  \n",
      "3    築地市場駅        24.0  東京メトロ有楽町線      月島駅        17.0  \n",
      "4    築地市場駅        24.0  東京メトロ有楽町線      月島駅        17.0  \n",
      "\n",
      "[5 rows x 30 columns]\n"
     ]
    }
   ],
   "source": [
    "import sqlite3\n",
    "import pandas as pd\n",
    "\n",
    "DB_PATH = r'C:\\Users\\yuya.hosokawa\\Documents\\STEP3\\STEP3-1_bady\\DB\\room.db'  # パスのエスケープシーケンスを修正\n",
    "\n",
    "def inspect_db(db_path):\n",
    "    try:\n",
    "        conn = sqlite3.connect(db_path)\n",
    "        query = \"SELECT name FROM sqlite_master WHERE type='table';\"\n",
    "        tables = pd.read_sql(query, conn)\n",
    "        table_names = tables['name'].tolist()\n",
    "        print(\"Tables in database:\", table_names)\n",
    "\n",
    "        for table in table_names:\n",
    "            print(f\"Inspecting table: {table}\")\n",
    "            query = f\"PRAGMA table_info({table});\"\n",
    "            columns = pd.read_sql(query, conn)\n",
    "            print(columns)\n",
    "\n",
    "            query = f\"SELECT * FROM {table} LIMIT 5;\"\n",
    "            data = pd.read_sql(query, conn)\n",
    "            print(data)\n",
    "\n",
    "        conn.close()\n",
    "    except Exception as e:\n",
    "        print(f\"Error inspecting database: {e}\")\n",
    "\n",
    "inspect_db(DB_PATH)\n"
   ]
  },
  {
   "cell_type": "code",
   "execution_count": 8,
   "metadata": {},
   "outputs": [
    {
     "ename": "AttributeError",
     "evalue": "'str' object has no attribute 'head'",
     "output_type": "error",
     "traceback": [
      "\u001b[1;31m---------------------------------------------------------------------------\u001b[0m",
      "\u001b[1;31mAttributeError\u001b[0m                            Traceback (most recent call last)",
      "Cell \u001b[1;32mIn[8], line 17\u001b[0m\n\u001b[0;32m     14\u001b[0m         \u001b[38;5;28;01mreturn\u001b[39;00m \u001b[38;5;28mstr\u001b[39m(e)  \u001b[38;5;66;03m# エラーメッセージを返す\u001b[39;00m\n\u001b[0;32m     16\u001b[0m df \u001b[38;5;241m=\u001b[39m load_data_from_db(DB_PATH)\n\u001b[1;32m---> 17\u001b[0m \u001b[38;5;28mprint\u001b[39m(df\u001b[38;5;241m.\u001b[39mhead())  \u001b[38;5;66;03m# データフレームの先頭5行を表示\u001b[39;00m\n\u001b[0;32m     18\u001b[0m \u001b[38;5;28mprint\u001b[39m(df\u001b[38;5;241m.\u001b[39mcolumns)\n",
      "\u001b[1;31mAttributeError\u001b[0m: 'str' object has no attribute 'head'"
     ]
    }
   ],
   "source": [
    "import sqlite3\n",
    "import pandas as pd\n",
    "\n",
    "DB_PATH = 'STEP3-1_bady\\DB\\room.db'  # アップロードされたデータベースファイルのパス\n",
    "\n",
    "def load_data_from_db(db_path):\n",
    "    try:\n",
    "        conn = sqlite3.connect(db_path)\n",
    "        query = \"SELECT * FROM room_ver2\"\n",
    "        df = pd.read_sql(query, conn)\n",
    "        conn.close()\n",
    "        return df\n",
    "    except Exception as e:\n",
    "        return str(e)  # エラーメッセージを返す\n",
    "\n",
    "df = load_data_from_db(DB_PATH)\n",
    "print(df.head())  # データフレームの先頭5行を表示\n",
    "print(df.columns)  # データフレームの列名を表示\n"
   ]
  },
  {
   "cell_type": "code",
   "execution_count": 9,
   "metadata": {},
   "outputs": [
    {
     "name": "stdout",
     "output_type": "stream",
     "text": [
      "Error loading data from database: unable to open database file\n",
      "Failed to load data from database.\n"
     ]
    }
   ],
   "source": [
    "import sqlite3\n",
    "import pandas as pd\n",
    "\n",
    "DB_PATH = 'STEP3-1_bady\\DB\\room.db'  # アップロードされたデータベースファイルのパス\n",
    "\n",
    "def load_data_from_db(db_path):\n",
    "    try:\n",
    "        conn = sqlite3.connect(db_path)\n",
    "        query = \"SELECT * FROM room_ver2\"\n",
    "        df = pd.read_sql(query, conn)\n",
    "        conn.close()\n",
    "        return df\n",
    "    except Exception as e:\n",
    "        print(f\"Error loading data from database: {e}\")\n",
    "        return None  # エラーメッセージを返す\n",
    "\n",
    "df = load_data_from_db(DB_PATH)\n",
    "if df is not None:\n",
    "    print(df.head())  # データフレームの先頭5行を表示\n",
    "    print(df.columns)  # データフレームの列名を表示\n",
    "else:\n",
    "    print(\"Failed to load data from database.\")\n"
   ]
  },
  {
   "cell_type": "code",
   "execution_count": null,
   "metadata": {},
   "outputs": [],
   "source": []
  }
 ],
 "metadata": {
  "kernelspec": {
   "display_name": "python-env",
   "language": "python",
   "name": "python3"
  },
  "language_info": {
   "codemirror_mode": {
    "name": "ipython",
    "version": 3
   },
   "file_extension": ".py",
   "mimetype": "text/x-python",
   "name": "python",
   "nbconvert_exporter": "python",
   "pygments_lexer": "ipython3",
   "version": "3.11.8"
  }
 },
 "nbformat": 4,
 "nbformat_minor": 2
}
